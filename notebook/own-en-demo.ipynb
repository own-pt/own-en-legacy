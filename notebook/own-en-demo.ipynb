{
 "cells": [
  {
   "cell_type": "code",
   "execution_count": 1,
   "metadata": {},
   "outputs": [],
   "source": [
    "import ownen\n",
    "from ipywidgets import interact, interactive, fixed, interact_manual"
   ]
  },
  {
   "cell_type": "markdown",
   "metadata": {},
   "source": [
    "## Setup\n",
    "First, setup access to a SPARQL endpoint containing the materialized triples generated from OWN-EN.  For now we are using an external RDF store, but the idea is to setup a cicle of edit, RDF generation, expansion of OWL inference rules, and visualization using Apache Jena / Fuseki or a similar triple store."
   ]
  },
  {
   "cell_type": "code",
   "execution_count": 2,
   "metadata": {},
   "outputs": [],
   "source": [
    "en = ownen.OwnEn()"
   ]
  },
  {
   "cell_type": "code",
   "execution_count": 3,
   "metadata": {},
   "outputs": [
    {
     "data": {
      "application/vnd.jupyter.widget-view+json": {
       "model_id": "ee2b96d8833644c1ad489124f285a898",
       "version_major": 2,
       "version_minor": 0
      },
      "text/plain": [
       "interactive(children=(Text(value='carbonate', description='s'), Output()), _dom_classes=('widget-interact',))"
      ]
     },
     "metadata": {},
     "output_type": "display_data"
    },
    {
     "data": {
      "text/plain": [
       "<function ipywidgets.widgets.interaction._InteractFactory.__call__.<locals>.<lambda>(*args, **kwargs)>"
      ]
     },
     "execution_count": 3,
     "metadata": {},
     "output_type": "execute_result"
    }
   ],
   "source": [
    "interact(en.search, s=\"carbonate\")"
   ]
  },
  {
   "cell_type": "code",
   "execution_count": 4,
   "metadata": {},
   "outputs": [
    {
     "data": {
      "application/vnd.jupyter.widget-view+json": {
       "model_id": "02c41f6b74594aba8d061075e76d503f",
       "version_major": 2,
       "version_minor": 0
      },
      "text/plain": [
       "interactive(children=(Text(value='^hydrogen', description='s'), Output()), _dom_classes=('widget-interact',))"
      ]
     },
     "metadata": {},
     "output_type": "display_data"
    },
    {
     "data": {
      "text/plain": [
       "<function ipywidgets.widgets.interaction._InteractFactory.__call__.<locals>.<lambda>(*args, **kwargs)>"
      ]
     },
     "execution_count": 4,
     "metadata": {},
     "output_type": "execute_result"
    }
   ],
   "source": [
    "interact(en.regex, s=\"^hydrogen\")"
   ]
  },
  {
   "cell_type": "code",
   "execution_count": 5,
   "metadata": {},
   "outputs": [
    {
     "data": {
      "text/plain": [
       "['noun.artifact-seat2']"
      ]
     },
     "execution_count": 5,
     "metadata": {},
     "output_type": "execute_result"
    }
   ],
   "source": [
    "en.hypernym('inst:synset-noun.artifact-chair2')"
   ]
  },
  {
   "cell_type": "code",
   "execution_count": 6,
   "metadata": {},
   "outputs": [
    {
     "data": {
      "text/plain": [
       "['noun.artifact-highchair',\n",
       " 'noun.artifact-tablet-armed_chair',\n",
       " 'noun.artifact-Eames_chair',\n",
       " 'noun.artifact-armchair',\n",
       " 'noun.artifact-barber_chair',\n",
       " 'noun.artifact-wheelchair',\n",
       " 'noun.artifact-chaise_longue',\n",
       " 'noun.artifact-fighting_chair',\n",
       " 'noun.artifact-rocking_chair',\n",
       " 'noun.artifact-folding_chair',\n",
       " 'noun.artifact-straight_chair',\n",
       " 'noun.artifact-lawn_chair',\n",
       " 'noun.artifact-swivel_chair',\n",
       " 'noun.artifact-chair_of_state',\n",
       " 'noun.artifact-ladder-back']"
      ]
     },
     "execution_count": 6,
     "metadata": {},
     "output_type": "execute_result"
    }
   ],
   "source": [
    "en.hyponym('inst:synset-noun.artifact-chair2')"
   ]
  },
  {
   "cell_type": "code",
   "execution_count": 7,
   "metadata": {},
   "outputs": [
    {
     "data": {
      "text/markdown": [
       "- **hyponym of**: `waste_material`\n",
       "- **gloss**: Residual sand or rock that remains after ore is crushed and gold has been extracted.\n",
       "- **lexicographer file**: noun.geosci\n",
       "- **synset id**: noun.geosci:tailing\n",
       "- **words**: *culm\\_dump*, *leach\\_residue*, *mine\\_dump*, *refuse*, *slickens*, *slime*, *tailing*, *tails*\n"
      ],
      "text/plain": [
       "<IPython.core.display.Markdown object>"
      ]
     },
     "execution_count": 7,
     "metadata": {},
     "output_type": "execute_result"
    }
   ],
   "source": [
    "en.show('inst:synset-noun.geosci-tailing')"
   ]
  },
  {
   "cell_type": "code",
   "execution_count": 8,
   "metadata": {},
   "outputs": [
    {
     "data": {
      "text/plain": [
       "['noun.substance-waste']"
      ]
     },
     "execution_count": 8,
     "metadata": {},
     "output_type": "execute_result"
    }
   ],
   "source": [
    "en.search('waste_material')"
   ]
  },
  {
   "cell_type": "code",
   "execution_count": null,
   "metadata": {},
   "outputs": [],
   "source": []
  }
 ],
 "metadata": {
  "kernelspec": {
   "display_name": "Python 3",
   "language": "python",
   "name": "python3"
  },
  "language_info": {
   "codemirror_mode": {
    "name": "ipython",
    "version": 3
   },
   "file_extension": ".py",
   "mimetype": "text/x-python",
   "name": "python",
   "nbconvert_exporter": "python",
   "pygments_lexer": "ipython3",
   "version": "3.6.5"
  }
 },
 "nbformat": 4,
 "nbformat_minor": 2
}

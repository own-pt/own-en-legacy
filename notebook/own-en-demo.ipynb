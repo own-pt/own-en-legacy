{
 "cells": [
  {
   "cell_type": "code",
   "execution_count": 1,
   "metadata": {},
   "outputs": [],
   "source": [
    "import ownen\n",
    "from ipywidgets import interact, interactive, fixed, interact_manual\n"
   ]
  },
  {
   "cell_type": "markdown",
   "metadata": {},
   "source": [
    "## Setup\n",
    "First, setup access to a SPARQL endpoint containing the materialized triples generated from OWN-EN.  For now we are using an external RDF store, but the idea is to setup a cicle of edit, RDF generation, expansion of OWL inference rules, and visualization using Apache Jena / Fuseki or a similar triple store."
   ]
  },
  {
   "cell_type": "code",
   "execution_count": 2,
   "metadata": {},
   "outputs": [],
   "source": [
    "en = ownen.OwnEn()"
   ]
  },
  {
   "cell_type": "code",
   "execution_count": 3,
   "metadata": {},
   "outputs": [
    {
     "data": {
      "application/vnd.jupyter.widget-view+json": {
       "model_id": "913974b8d2b04aeda4b56b416eedc928",
       "version_major": 2,
       "version_minor": 0
      },
      "text/plain": [
       "interactive(children=(Text(value='carbonate', description='s'), Output()), _dom_classes=('widget-interact',))"
      ]
     },
     "metadata": {},
     "output_type": "display_data"
    },
    {
     "data": {
      "text/plain": [
       "<function ipywidgets.widgets.interaction._InteractFactory.__call__.<locals>.<lambda>(*args, **kwargs)>"
      ]
     },
     "execution_count": 3,
     "metadata": {},
     "output_type": "execute_result"
    }
   ],
   "source": [
    "interact(en.search, s=\"carbonate\")"
   ]
  },
  {
   "cell_type": "code",
   "execution_count": 4,
   "metadata": {},
   "outputs": [
    {
     "data": {
      "application/vnd.jupyter.widget-view+json": {
       "model_id": "4d8ffa879e2144cdb98e5bb560d4bca7",
       "version_major": 2,
       "version_minor": 0
      },
      "text/plain": [
       "interactive(children=(Text(value='^hydrogen', description='s'), Output()), _dom_classes=('widget-interact',))"
      ]
     },
     "metadata": {},
     "output_type": "display_data"
    },
    {
     "data": {
      "text/plain": [
       "<function ipywidgets.widgets.interaction._InteractFactory.__call__.<locals>.<lambda>(*args, **kwargs)>"
      ]
     },
     "execution_count": 4,
     "metadata": {},
     "output_type": "execute_result"
    }
   ],
   "source": [
    "interact(en.regex, s=\"^hydrogen\")"
   ]
  },
  {
   "cell_type": "code",
   "execution_count": 5,
   "metadata": {},
   "outputs": [
    {
     "data": {
      "text/plain": [
       "['inst:synset-noun.artifact-seat2']"
      ]
     },
     "execution_count": 5,
     "metadata": {},
     "output_type": "execute_result"
    }
   ],
   "source": [
    "en.hypernym('inst:synset-noun.artifact-chair2')"
   ]
  },
  {
   "cell_type": "code",
   "execution_count": 6,
   "metadata": {},
   "outputs": [
    {
     "data": {
      "text/plain": [
       "['inst:synset-noun.artifact-highchair',\n",
       " 'inst:synset-noun.artifact-tablet-armed_chair',\n",
       " 'inst:synset-noun.artifact-Eames_chair',\n",
       " 'inst:synset-noun.artifact-armchair',\n",
       " 'inst:synset-noun.artifact-barber_chair',\n",
       " 'inst:synset-noun.artifact-wheelchair',\n",
       " 'inst:synset-noun.artifact-chaise_longue',\n",
       " 'inst:synset-noun.artifact-fighting_chair',\n",
       " 'inst:synset-noun.artifact-rocking_chair',\n",
       " 'inst:synset-noun.artifact-folding_chair',\n",
       " 'inst:synset-noun.artifact-straight_chair',\n",
       " 'inst:synset-noun.artifact-lawn_chair',\n",
       " 'inst:synset-noun.artifact-swivel_chair',\n",
       " 'inst:synset-noun.artifact-chair_of_state',\n",
       " 'inst:synset-noun.artifact-ladder-back']"
      ]
     },
     "execution_count": 6,
     "metadata": {},
     "output_type": "execute_result"
    }
   ],
   "source": [
    "en.hyponym('inst:synset-noun.artifact-chair2')"
   ]
  },
  {
   "cell_type": "code",
   "execution_count": 7,
   "metadata": {},
   "outputs": [
    {
     "data": {
      "text/markdown": [
       "- **hypernym of**: inst:synset-noun.artifact-folding_chair inst:synset-noun.artifact-highchair inst:synset-noun.artifact-tablet-armed_chair inst:synset-noun.artifact-Eames_chair inst:synset-noun.artifact-armchair inst:synset-noun.artifact-barber_chair inst:synset-noun.artifact-wheelchair inst:synset-noun.artifact-chaise_longue inst:synset-noun.artifact-fighting_chair inst:synset-noun.artifact-rocking_chair inst:synset-noun.artifact-straight_chair inst:synset-noun.artifact-lawn_chair inst:synset-noun.artifact-swivel_chair inst:synset-noun.artifact-chair_of_state inst:synset-noun.artifact-ladder-back\n",
       "- **hyponym of**: inst:synset-noun.artifact-seat2\n",
       "- **meronym of**: inst:synset-noun.artifact-back3 inst:synset-noun.artifact-leg1\n",
       "- **part meronym of**: inst:synset-noun.artifact-back3 inst:synset-noun.artifact-leg1\n"
      ],
      "text/plain": [
       "<IPython.core.display.Markdown object>"
      ]
     },
     "execution_count": 7,
     "metadata": {},
     "output_type": "execute_result"
    }
   ],
   "source": [
    "en.show('inst:synset-noun.artifact-chair2')"
   ]
  }
 ],
 "metadata": {
  "kernelspec": {
   "display_name": "Python 3",
   "language": "python",
   "name": "python3"
  },
  "language_info": {
   "codemirror_mode": {
    "name": "ipython",
    "version": 3
   },
   "file_extension": ".py",
   "mimetype": "text/x-python",
   "name": "python",
   "nbconvert_exporter": "python",
   "pygments_lexer": "ipython3",
   "version": "3.6.5"
  }
 },
 "nbformat": 4,
 "nbformat_minor": 2
}

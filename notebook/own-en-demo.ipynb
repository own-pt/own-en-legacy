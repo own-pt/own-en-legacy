{
 "cells": [
  {
   "cell_type": "code",
   "execution_count": 1,
   "metadata": {},
   "outputs": [],
   "source": [
    "import ownen"
   ]
  },
  {
   "cell_type": "markdown",
   "metadata": {},
   "source": [
    "## Setup\n",
    "First, setup access to a SPARQL endpoint containing the materialized triples generated from OWN-EN.  For now we are using an external RDF store, but the idea is to setup a cicle of edit, RDF generation, expansion of OWL inference rules, and visualization using Apache Jena / Fuseki or a similar triple store."
   ]
  },
  {
   "cell_type": "code",
   "execution_count": 2,
   "metadata": {},
   "outputs": [],
   "source": [
    "en = ownen.OwnEn()"
   ]
  },
  {
   "cell_type": "code",
   "execution_count": 3,
   "metadata": {},
   "outputs": [
    {
     "data": {
      "text/plain": [
       "['inst:synset-verb.change-carbonate',\n",
       " 'inst:synset-noun.substance-carbonate',\n",
       " 'inst:synset-verb.stative-carbonate',\n",
       " 'inst:synset-noun.geosci-carbonate']"
      ]
     },
     "execution_count": 3,
     "metadata": {},
     "output_type": "execute_result"
    }
   ],
   "source": [
    "en.search(\"carbonate\")"
   ]
  },
  {
   "cell_type": "code",
   "execution_count": 4,
   "metadata": {},
   "outputs": [
    {
     "data": {
      "text/plain": [
       "['inst:synset-noun.substance-hydrogen_bromide',\n",
       " 'inst:synset-noun.artifact-hydrogen_bomb',\n",
       " 'inst:synset-noun.process-hydrogenation',\n",
       " 'inst:synset-noun.substance-hydrogen_fluoride',\n",
       " 'inst:synset-noun.substance-hydrogen_chloride',\n",
       " 'inst:synset-noun.substance-hydrogen_atom',\n",
       " 'inst:synset-noun.object-hydrogen_ion',\n",
       " 'inst:synset-verb.competition-hydrogen-bomb',\n",
       " 'inst:synset-noun.substance-hydrogen_iodide',\n",
       " 'inst:synset-noun.substance-bicarbonate',\n",
       " 'inst:synset-noun.substance-hydrogen_peroxide',\n",
       " 'inst:synset-noun.attribute-hydrogen_ion_concentration',\n",
       " 'inst:synset-noun.substance-hydrazoic_acid',\n",
       " 'inst:synset-noun.substance-hydrogen',\n",
       " 'inst:synset-noun.substance-hydrogen_sulfide',\n",
       " 'inst:synset-verb.change-hydrogenate',\n",
       " 'inst:synset-noun.phenomenon-hydrogen_bond',\n",
       " 'inst:synset-noun.substance-hydrogen_cyanide']"
      ]
     },
     "execution_count": 4,
     "metadata": {},
     "output_type": "execute_result"
    }
   ],
   "source": [
    "en.regex(\"^hydrogen\")"
   ]
  },
  {
   "cell_type": "code",
   "execution_count": 5,
   "metadata": {},
   "outputs": [
    {
     "data": {
      "text/plain": [
       "['inst:synset-noun.artifact-seat2']"
      ]
     },
     "execution_count": 5,
     "metadata": {},
     "output_type": "execute_result"
    }
   ],
   "source": [
    "en.hypernym('inst:synset-noun.artifact-chair2')"
   ]
  },
  {
   "cell_type": "code",
   "execution_count": 6,
   "metadata": {},
   "outputs": [
    {
     "data": {
      "text/plain": [
       "['inst:synset-noun.artifact-highchair',\n",
       " 'inst:synset-noun.artifact-tablet-armed_chair',\n",
       " 'inst:synset-noun.artifact-Eames_chair',\n",
       " 'inst:synset-noun.artifact-armchair',\n",
       " 'inst:synset-noun.artifact-barber_chair',\n",
       " 'inst:synset-noun.artifact-wheelchair',\n",
       " 'inst:synset-noun.artifact-chaise_longue',\n",
       " 'inst:synset-noun.artifact-fighting_chair',\n",
       " 'inst:synset-noun.artifact-rocking_chair',\n",
       " 'inst:synset-noun.artifact-folding_chair',\n",
       " 'inst:synset-noun.artifact-straight_chair',\n",
       " 'inst:synset-noun.artifact-lawn_chair',\n",
       " 'inst:synset-noun.artifact-swivel_chair',\n",
       " 'inst:synset-noun.artifact-chair_of_state',\n",
       " 'inst:synset-noun.artifact-ladder-back']"
      ]
     },
     "execution_count": 6,
     "metadata": {},
     "output_type": "execute_result"
    }
   ],
   "source": [
    "en.hyponym('inst:synset-noun.artifact-chair2')"
   ]
  },
  {
   "cell_type": "code",
   "execution_count": null,
   "metadata": {},
   "outputs": [],
   "source": []
  }
 ],
 "metadata": {
  "kernelspec": {
   "display_name": "Python 3",
   "language": "python",
   "name": "python3"
  },
  "language_info": {
   "codemirror_mode": {
    "name": "ipython",
    "version": 3
   },
   "file_extension": ".py",
   "mimetype": "text/x-python",
   "name": "python",
   "nbconvert_exporter": "python",
   "pygments_lexer": "ipython3",
   "version": "3.6.5"
  }
 },
 "nbformat": 4,
 "nbformat_minor": 2
}

{
 "cells": [
  {
   "cell_type": "code",
   "execution_count": 1,
   "metadata": {},
   "outputs": [],
   "source": [
    "import ownen\n",
    "from ipywidgets import interact, interactive, fixed, interact_manual"
   ]
  },
  {
   "cell_type": "markdown",
   "metadata": {},
   "source": [
    "## Setup\n",
    "First, setup access to a SPARQL endpoint containing the materialized triples generated from OWN-EN.  For now we are using an external RDF store, but the idea is to setup a cicle of edit, RDF generation, expansion of OWL inference rules, and visualization using Apache Jena / Fuseki or a similar triple store."
   ]
  },
  {
   "cell_type": "code",
   "execution_count": 2,
   "metadata": {},
   "outputs": [],
   "source": [
    "en = ownen.OwnEn()"
   ]
  },
  {
   "cell_type": "code",
   "execution_count": 3,
   "metadata": {},
   "outputs": [
    {
     "data": {
      "application/vnd.jupyter.widget-view+json": {
       "model_id": "ecf41ad2ca9b4865a51db54bec544f65",
       "version_major": 2,
       "version_minor": 0
      },
      "text/plain": [
       "interactive(children=(Text(value='carbonate', description='s'), Output()), _dom_classes=('widget-interact',))"
      ]
     },
     "metadata": {},
     "output_type": "display_data"
    },
    {
     "data": {
      "text/plain": [
       "<function ipywidgets.widgets.interaction._InteractFactory.__call__.<locals>.<lambda>(*args, **kwargs)>"
      ]
     },
     "execution_count": 3,
     "metadata": {},
     "output_type": "execute_result"
    }
   ],
   "source": [
    "interact(en.search, s=\"carbonate\")"
   ]
  },
  {
   "cell_type": "code",
   "execution_count": 4,
   "metadata": {},
   "outputs": [
    {
     "data": {
      "application/vnd.jupyter.widget-view+json": {
       "model_id": "a2585936b23a47b0a5e7b20f5c02675b",
       "version_major": 2,
       "version_minor": 0
      },
      "text/plain": [
       "interactive(children=(Text(value='^hydrogen', description='s'), Output()), _dom_classes=('widget-interact',))"
      ]
     },
     "metadata": {},
     "output_type": "display_data"
    },
    {
     "data": {
      "text/plain": [
       "<function ipywidgets.widgets.interaction._InteractFactory.__call__.<locals>.<lambda>(*args, **kwargs)>"
      ]
     },
     "execution_count": 4,
     "metadata": {},
     "output_type": "execute_result"
    }
   ],
   "source": [
    "interact(en.regex, s=\"^hydrogen\")"
   ]
  },
  {
   "cell_type": "code",
   "execution_count": 5,
   "metadata": {},
   "outputs": [
    {
     "data": {
      "text/plain": [
       "['https://br.ibm.com/tkb/own-en/instances/synset-noun.artifact-seat2']"
      ]
     },
     "execution_count": 5,
     "metadata": {},
     "output_type": "execute_result"
    }
   ],
   "source": [
    "en.hypernym('noun.artifact-chair2')"
   ]
  },
  {
   "cell_type": "code",
   "execution_count": 6,
   "metadata": {},
   "outputs": [
    {
     "data": {
      "text/plain": [
       "['https://br.ibm.com/tkb/own-en/instances/synset-noun.artifact-highchair',\n",
       " 'https://br.ibm.com/tkb/own-en/instances/synset-noun.artifact-tablet-armed_chair',\n",
       " 'https://br.ibm.com/tkb/own-en/instances/synset-noun.artifact-Eames_chair',\n",
       " 'https://br.ibm.com/tkb/own-en/instances/synset-noun.artifact-armchair',\n",
       " 'https://br.ibm.com/tkb/own-en/instances/synset-noun.artifact-barber_chair',\n",
       " 'https://br.ibm.com/tkb/own-en/instances/synset-noun.artifact-wheelchair',\n",
       " 'https://br.ibm.com/tkb/own-en/instances/synset-noun.artifact-chaise_longue',\n",
       " 'https://br.ibm.com/tkb/own-en/instances/synset-noun.artifact-fighting_chair',\n",
       " 'https://br.ibm.com/tkb/own-en/instances/synset-noun.artifact-rocking_chair',\n",
       " 'https://br.ibm.com/tkb/own-en/instances/synset-noun.artifact-folding_chair',\n",
       " 'https://br.ibm.com/tkb/own-en/instances/synset-noun.artifact-straight_chair',\n",
       " 'https://br.ibm.com/tkb/own-en/instances/synset-noun.artifact-lawn_chair',\n",
       " 'https://br.ibm.com/tkb/own-en/instances/synset-noun.artifact-swivel_chair',\n",
       " 'https://br.ibm.com/tkb/own-en/instances/synset-noun.artifact-chair_of_state',\n",
       " 'https://br.ibm.com/tkb/own-en/instances/synset-noun.artifact-ladder-back']"
      ]
     },
     "execution_count": 6,
     "metadata": {},
     "output_type": "execute_result"
    }
   ],
   "source": [
    "en.hyponym('noun.artifact-chair2')"
   ]
  },
  {
   "cell_type": "code",
   "execution_count": 7,
   "metadata": {},
   "outputs": [
    {
     "data": {
      "text/markdown": [
       "- **hyponym of**: `waste_material`\n",
       "- **gloss**: Residual sand or rock that remains after ore is crushed and gold has been extracted.\n",
       "- **lexicographer file**: noun.geosci\n",
       "- **synset id**: noun.geosci:tailing\n",
       "- **words**: *culm\\_dump*, *leach\\_residue*, *mine\\_dump*, *refuse*, *slickens*, *slime*, *tailing*, *tails*\n"
      ],
      "text/plain": [
       "<IPython.core.display.Markdown object>"
      ]
     },
     "execution_count": 7,
     "metadata": {},
     "output_type": "execute_result"
    }
   ],
   "source": [
    "en.show('noun.geosci-tailing')"
   ]
  },
  {
   "cell_type": "code",
   "execution_count": 8,
   "metadata": {},
   "outputs": [
    {
     "data": {
      "text/plain": [
       "['https://br.ibm.com/tkb/own-en/instances/synset-noun.substance-waste']"
      ]
     },
     "execution_count": 8,
     "metadata": {},
     "output_type": "execute_result"
    }
   ],
   "source": [
    "en.search('waste_material')"
   ]
  },
  {
   "cell_type": "code",
   "execution_count": 9,
   "metadata": {},
   "outputs": [
    {
     "data": {
      "text/markdown": [
       "- **hypernym of**: `scraps`, `sewer_water`, `fumes`, `pollutant`, `culm_dump`, `excreta`, `scrap`, `toxic_industrial_waste`, `slop`, `dross`, `sewerage`, `skank`\n",
       "- **hyponym of**: `stuff`\n",
       "- **gloss**: any materials unused and rejected as worthless or unwanted; \"they collect the waste once a week\"; \"much of the waste material is carried off in the sewers\"\n",
       "- **lexicographer file**: noun.substance\n",
       "- **synset id**: noun.substance:waste\n",
       "- **words**: *waste*, *waste\\_material*, *waste\\_matter*, *waste\\_product*\n"
      ],
      "text/plain": [
       "<IPython.core.display.Markdown object>"
      ]
     },
     "execution_count": 9,
     "metadata": {},
     "output_type": "execute_result"
    }
   ],
   "source": [
    "en.show('noun.substance-waste')"
   ]
  },
  {
   "cell_type": "code",
   "execution_count": 10,
   "metadata": {},
   "outputs": [
    {
     "data": {
      "text/plain": [
       "['https://br.ibm.com/tkb/own-en/instances/synset-noun.substance-waste']"
      ]
     },
     "execution_count": 10,
     "metadata": {},
     "output_type": "execute_result"
    }
   ],
   "source": [
    "en.search('waste_material')"
   ]
  },
  {
   "cell_type": "code",
   "execution_count": 11,
   "metadata": {},
   "outputs": [
    {
     "data": {
      "text/markdown": [
       "- **hypernym of**: `stock`, `sill`, `dyke`\n",
       "- **hyponym of**: `rock`\n",
       "- **gloss**: rock produced by an intrusive process\n",
       "- **lexicographer file**: noun.object\n",
       "- **synset id**: noun.object:intrusion\n",
       "- **words**: *intrusion*\n"
      ],
      "text/plain": [
       "<IPython.core.display.Markdown object>"
      ]
     },
     "execution_count": 11,
     "metadata": {},
     "output_type": "execute_result"
    }
   ],
   "source": [
    "en.show('noun.object-intrusion')"
   ]
  },
  {
   "cell_type": "code",
   "execution_count": 12,
   "metadata": {},
   "outputs": [
    {
     "data": {
      "text/plain": [
       "['https://br.ibm.com/tkb/own-en/instances/synset-noun.artifact-club_car',\n",
       " 'https://br.ibm.com/tkb/own-en/instances/synset-verb.body-nod',\n",
       " 'https://br.ibm.com/tkb/own-en/instances/synset-noun.artifact-splat',\n",
       " 'https://br.ibm.com/tkb/own-en/instances/synset-verb.motion-ease',\n",
       " 'https://br.ibm.com/tkb/own-en/instances/synset-adv.all-astride1',\n",
       " 'https://br.ibm.com/tkb/own-en/instances/synset-noun.artifact-armchair',\n",
       " 'https://br.ibm.com/tkb/own-en/instances/synset-verb.social-vacate',\n",
       " 'https://br.ibm.com/tkb/own-en/instances/synset-noun.person-Arafat',\n",
       " 'https://br.ibm.com/tkb/own-en/instances/synset-verb.possession-bottom',\n",
       " 'https://br.ibm.com/tkb/own-en/instances/synset-noun.artifact-Windsor_chair',\n",
       " 'https://br.ibm.com/tkb/own-en/instances/synset-noun.person-vice_chairman',\n",
       " 'https://br.ibm.com/tkb/own-en/instances/synset-noun.artifact-swivel_chair',\n",
       " 'https://br.ibm.com/tkb/own-en/instances/synset-noun.shape-sag',\n",
       " 'https://br.ibm.com/tkb/own-en/instances/synset-noun.possession-appanage',\n",
       " 'https://br.ibm.com/tkb/own-en/instances/synset-noun.person-grunt',\n",
       " 'https://br.ibm.com/tkb/own-en/instances/synset-noun.act-musical_chairs',\n",
       " 'https://br.ibm.com/tkb/own-en/instances/synset-noun.artifact-saddle_seat',\n",
       " 'https://br.ibm.com/tkb/own-en/instances/synset-noun.artifact-shoofly',\n",
       " 'https://br.ibm.com/tkb/own-en/instances/synset-noun.group-meeting1',\n",
       " 'https://br.ibm.com/tkb/own-en/instances/synset-verb.social-close1',\n",
       " 'https://br.ibm.com/tkb/own-en/instances/synset-verb.possession-trash',\n",
       " 'https://br.ibm.com/tkb/own-en/instances/synset-noun.artifact-chair2',\n",
       " 'https://br.ibm.com/tkb/own-en/instances/synset-verb.stative-reach',\n",
       " 'https://br.ibm.com/tkb/own-en/instances/synset-verb.body-cry1',\n",
       " 'https://br.ibm.com/tkb/own-en/instances/synset-verb.possession-line_up',\n",
       " 'https://br.ibm.com/tkb/own-en/instances/synset-noun.act-walkout1',\n",
       " 'https://br.ibm.com/tkb/own-en/instances/synset-adj.all-legless',\n",
       " 'https://br.ibm.com/tkb/own-en/instances/synset-noun.artifact-chaise_longue',\n",
       " 'https://br.ibm.com/tkb/own-en/instances/synset-noun.artifact-folding_chair',\n",
       " 'https://br.ibm.com/tkb/own-en/instances/synset-noun.artifact-electric_chair',\n",
       " 'https://br.ibm.com/tkb/own-en/instances/synset-verb.change-crack3',\n",
       " 'https://br.ibm.com/tkb/own-en/instances/synset-verb.motion-sink6',\n",
       " 'https://br.ibm.com/tkb/own-en/instances/synset-noun.artifact-Boston_rocker',\n",
       " 'https://br.ibm.com/tkb/own-en/instances/synset-noun.artifact-ladder-back',\n",
       " 'https://br.ibm.com/tkb/own-en/instances/synset-noun.artifact-Morris_chair',\n",
       " 'https://br.ibm.com/tkb/own-en/instances/synset-noun.artifact-deck_chair',\n",
       " 'https://br.ibm.com/tkb/own-en/instances/synset-verb.social-serve2',\n",
       " 'https://br.ibm.com/tkb/own-en/instances/synset-verb.cognition-forget',\n",
       " 'https://br.ibm.com/tkb/own-en/instances/synset-noun.plant-basket_oak',\n",
       " 'https://br.ibm.com/tkb/own-en/instances/synset-verb.competition-act',\n",
       " 'https://br.ibm.com/tkb/own-en/instances/synset-noun.artifact-barber_chair',\n",
       " 'https://br.ibm.com/tkb/own-en/instances/synset-verb.contact-break5',\n",
       " 'https://br.ibm.com/tkb/own-en/instances/synset-noun.artifact-spindle',\n",
       " 'https://br.ibm.com/tkb/own-en/instances/synset-noun.artifact-throne1',\n",
       " 'https://br.ibm.com/tkb/own-en/instances/synset-adjs.all-particular2',\n",
       " 'https://br.ibm.com/tkb/own-en/instances/synset-verb.contact-chain1',\n",
       " 'https://br.ibm.com/tkb/own-en/instances/synset-noun.artifact-rung',\n",
       " 'https://br.ibm.com/tkb/own-en/instances/synset-noun.artifact-tablet-armed_chair',\n",
       " 'https://br.ibm.com/tkb/own-en/instances/synset-noun.artifact-wing_chair',\n",
       " 'https://br.ibm.com/tkb/own-en/instances/synset-verb.motion-fall3',\n",
       " 'https://br.ibm.com/tkb/own-en/instances/synset-noun.attribute-pull',\n",
       " 'https://br.ibm.com/tkb/own-en/instances/synset-adjs.all-Byzantine',\n",
       " 'https://br.ibm.com/tkb/own-en/instances/synset-noun.artifact-cathedra',\n",
       " 'https://br.ibm.com/tkb/own-en/instances/synset-noun.person-Eames',\n",
       " 'https://br.ibm.com/tkb/own-en/instances/synset-noun.state-convenience',\n",
       " 'https://br.ibm.com/tkb/own-en/instances/synset-noun.artifact-parlor_car',\n",
       " 'https://br.ibm.com/tkb/own-en/instances/synset-noun.person-Chippendale',\n",
       " 'https://br.ibm.com/tkb/own-en/instances/synset-noun.artifact-sitz_bath',\n",
       " 'https://br.ibm.com/tkb/own-en/instances/synset-noun.artifact-recliner',\n",
       " 'https://br.ibm.com/tkb/own-en/instances/synset-noun.artifact-canvas4',\n",
       " 'https://br.ibm.com/tkb/own-en/instances/synset-verb.possession-inherit',\n",
       " 'https://br.ibm.com/tkb/own-en/instances/synset-verb.social-bow_out1',\n",
       " 'https://br.ibm.com/tkb/own-en/instances/synset-noun.artifact-ladder-back1',\n",
       " 'https://br.ibm.com/tkb/own-en/instances/synset-noun.artifact-cucking_stool',\n",
       " 'https://br.ibm.com/tkb/own-en/instances/synset-noun.artifact-easy_chair',\n",
       " 'https://br.ibm.com/tkb/own-en/instances/synset-adjs.all-straight-backed',\n",
       " 'https://br.ibm.com/tkb/own-en/instances/synset-noun.person-question_master',\n",
       " 'https://br.ibm.com/tkb/own-en/instances/synset-adjs.all-gawky',\n",
       " 'https://br.ibm.com/tkb/own-en/instances/synset-verb.contact-gag1',\n",
       " 'https://br.ibm.com/tkb/own-en/instances/synset-noun.act-chairmanship',\n",
       " 'https://br.ibm.com/tkb/own-en/instances/synset-noun.attribute-floor',\n",
       " 'https://br.ibm.com/tkb/own-en/instances/synset-noun.group-Palestine_Liberation_Organization',\n",
       " 'https://br.ibm.com/tkb/own-en/instances/synset-noun.artifact-arm3',\n",
       " 'https://br.ibm.com/tkb/own-en/instances/synset-verb.possession-reseat',\n",
       " 'https://br.ibm.com/tkb/own-en/instances/synset-noun.artifact-back3',\n",
       " 'https://br.ibm.com/tkb/own-en/instances/synset-adjs.all-rickety1',\n",
       " 'https://br.ibm.com/tkb/own-en/instances/synset-noun.act-recognition',\n",
       " 'https://br.ibm.com/tkb/own-en/instances/synset-noun.artifact-bell_seat',\n",
       " 'https://br.ibm.com/tkb/own-en/instances/synset-noun.artifact-foot1',\n",
       " 'https://br.ibm.com/tkb/own-en/instances/synset-noun.state-comfort2',\n",
       " 'https://br.ibm.com/tkb/own-en/instances/synset-verb.contact-clamp',\n",
       " 'https://br.ibm.com/tkb/own-en/instances/synset-noun.act-throne',\n",
       " 'https://br.ibm.com/tkb/own-en/instances/synset-noun.location-pool',\n",
       " 'https://br.ibm.com/tkb/own-en/instances/synset-adv.all-dourly',\n",
       " 'https://br.ibm.com/tkb/own-en/instances/synset-adv.all-rhythmically',\n",
       " 'https://br.ibm.com/tkb/own-en/instances/synset-adjs.all-drowsy',\n",
       " 'https://br.ibm.com/tkb/own-en/instances/synset-verb.social-call_to_order',\n",
       " 'https://br.ibm.com/tkb/own-en/instances/synset-noun.artifact-chair1',\n",
       " 'https://br.ibm.com/tkb/own-en/instances/synset-noun.act-musical_chairs1',\n",
       " 'https://br.ibm.com/tkb/own-en/instances/synset-verb.possession-move',\n",
       " 'https://br.ibm.com/tkb/own-en/instances/synset-verb.change-pad',\n",
       " 'https://br.ibm.com/tkb/own-en/instances/synset-adj.all-arranged',\n",
       " 'https://br.ibm.com/tkb/own-en/instances/synset-adj.all-upstage',\n",
       " 'https://br.ibm.com/tkb/own-en/instances/synset-noun.attribute-placement',\n",
       " 'https://br.ibm.com/tkb/own-en/instances/synset-adjs.all-degage1',\n",
       " 'https://br.ibm.com/tkb/own-en/instances/synset-adj.all-motorized',\n",
       " 'https://br.ibm.com/tkb/own-en/instances/synset-noun.artifact-motorized_wheelchair',\n",
       " 'https://br.ibm.com/tkb/own-en/instances/synset-noun.artifact-yacht_chair',\n",
       " 'https://br.ibm.com/tkb/own-en/instances/synset-verb.communication-agree',\n",
       " 'https://br.ibm.com/tkb/own-en/instances/synset-noun.state-sense_of_the_meeting',\n",
       " 'https://br.ibm.com/tkb/own-en/instances/synset-adj.all-comfortable1',\n",
       " 'https://br.ibm.com/tkb/own-en/instances/synset-verb.social-cancel',\n",
       " 'https://br.ibm.com/tkb/own-en/instances/synset-noun.artifact-wheelchair',\n",
       " 'https://br.ibm.com/tkb/own-en/instances/synset-noun.artifact-bath_chair',\n",
       " 'https://br.ibm.com/tkb/own-en/instances/synset-adjs.all-bleached1',\n",
       " 'https://br.ibm.com/tkb/own-en/instances/synset-verb.contact-ensconce',\n",
       " 'https://br.ibm.com/tkb/own-en/instances/synset-noun.state-comfort1',\n",
       " 'https://br.ibm.com/tkb/own-en/instances/synset-verb.communication-address3',\n",
       " 'https://br.ibm.com/tkb/own-en/instances/synset-noun.artifact-straight_chair',\n",
       " 'https://br.ibm.com/tkb/own-en/instances/synset-noun.artifact-chair_of_state',\n",
       " 'https://br.ibm.com/tkb/own-en/instances/synset-verb.stative-blend',\n",
       " 'https://br.ibm.com/tkb/own-en/instances/synset-noun.communication-vote_of_confidence',\n",
       " 'https://br.ibm.com/tkb/own-en/instances/synset-verb.possession-seat',\n",
       " 'https://br.ibm.com/tkb/own-en/instances/synset-verb.social-maneuver',\n",
       " 'https://br.ibm.com/tkb/own-en/instances/synset-noun.shape-circle',\n",
       " 'https://br.ibm.com/tkb/own-en/instances/synset-noun.artifact-bed4',\n",
       " 'https://br.ibm.com/tkb/own-en/instances/synset-verb.contact-tie2',\n",
       " 'https://br.ibm.com/tkb/own-en/instances/synset-verb.emotion-cozy_up',\n",
       " 'https://br.ibm.com/tkb/own-en/instances/synset-verb.contact-recover',\n",
       " 'https://br.ibm.com/tkb/own-en/instances/synset-noun.artifact-camp_chair',\n",
       " 'https://br.ibm.com/tkb/own-en/instances/synset-verb.creation-manufacture2',\n",
       " 'https://br.ibm.com/tkb/own-en/instances/synset-adjs.all-rear',\n",
       " 'https://br.ibm.com/tkb/own-en/instances/synset-noun.artifact-Eames_chair',\n",
       " 'https://br.ibm.com/tkb/own-en/instances/synset-verb.social-chair',\n",
       " 'https://br.ibm.com/tkb/own-en/instances/synset-noun.artifact-rocking_chair',\n",
       " 'https://br.ibm.com/tkb/own-en/instances/synset-noun.artifact-platform_rocker',\n",
       " 'https://br.ibm.com/tkb/own-en/instances/synset-noun.person-Kalon_Tripa',\n",
       " 'https://br.ibm.com/tkb/own-en/instances/synset-noun.group-row1',\n",
       " 'https://br.ibm.com/tkb/own-en/instances/synset-verb.social-electrocute1',\n",
       " 'https://br.ibm.com/tkb/own-en/instances/synset-verb.contact-seat1',\n",
       " 'https://br.ibm.com/tkb/own-en/instances/synset-adj.all-uncomfortable1',\n",
       " 'https://br.ibm.com/tkb/own-en/instances/synset-noun.act-professorship',\n",
       " 'https://br.ibm.com/tkb/own-en/instances/synset-verb.social-elect',\n",
       " \"https://br.ibm.com/tkb/own-en/instances/synset-noun.plant-cat's-tail\",\n",
       " 'https://br.ibm.com/tkb/own-en/instances/synset-noun.artifact-litter',\n",
       " 'https://br.ibm.com/tkb/own-en/instances/synset-noun.person-chairman_of_the_board',\n",
       " 'https://br.ibm.com/tkb/own-en/instances/synset-noun.artifact-lawn_chair',\n",
       " 'https://br.ibm.com/tkb/own-en/instances/synset-adjs.all-cluttered',\n",
       " 'https://br.ibm.com/tkb/own-en/instances/synset-verb.contact-scrape3',\n",
       " 'https://br.ibm.com/tkb/own-en/instances/synset-verb.motion-flop',\n",
       " 'https://br.ibm.com/tkb/own-en/instances/synset-noun.artifact-bentwood',\n",
       " 'https://br.ibm.com/tkb/own-en/instances/synset-verb.social-leave_office',\n",
       " 'https://br.ibm.com/tkb/own-en/instances/synset-verb.contact-stagger',\n",
       " 'https://br.ibm.com/tkb/own-en/instances/synset-verb.social-oust1',\n",
       " 'https://br.ibm.com/tkb/own-en/instances/synset-noun.artifact-fighting_chair',\n",
       " 'https://br.ibm.com/tkb/own-en/instances/synset-noun.artifact-fauteuil',\n",
       " 'https://br.ibm.com/tkb/own-en/instances/synset-noun.person-president',\n",
       " 'https://br.ibm.com/tkb/own-en/instances/synset-noun.artifact-seat3',\n",
       " 'https://br.ibm.com/tkb/own-en/instances/synset-noun.artifact-highchair',\n",
       " 'https://br.ibm.com/tkb/own-en/instances/synset-verb.social-hobble',\n",
       " 'https://br.ibm.com/tkb/own-en/instances/synset-noun.artifact-writing_arm',\n",
       " 'https://br.ibm.com/tkb/own-en/instances/synset-noun.communication-affricate',\n",
       " 'https://br.ibm.com/tkb/own-en/instances/synset-noun.artifact-antimacassar',\n",
       " 'https://br.ibm.com/tkb/own-en/instances/synset-noun.artifact-jampan',\n",
       " \"https://br.ibm.com/tkb/own-en/instances/synset-noun.artifact-captain's_chair\"]"
      ]
     },
     "execution_count": 12,
     "metadata": {},
     "output_type": "execute_result"
    }
   ],
   "source": [
    "en.gloss('chair')"
   ]
  },
  {
   "cell_type": "code",
   "execution_count": null,
   "metadata": {},
   "outputs": [],
   "source": []
  }
 ],
 "metadata": {
  "kernelspec": {
   "display_name": "Python 3",
   "language": "python",
   "name": "python3"
  },
  "language_info": {
   "codemirror_mode": {
    "name": "ipython",
    "version": 3
   },
   "file_extension": ".py",
   "mimetype": "text/x-python",
   "name": "python",
   "nbconvert_exporter": "python",
   "pygments_lexer": "ipython3",
   "version": "3.6.5"
  }
 },
 "nbformat": 4,
 "nbformat_minor": 2
}
